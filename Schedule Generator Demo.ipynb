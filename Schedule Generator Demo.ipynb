{
 "cells": [
  {
   "cell_type": "code",
   "execution_count": null,
   "metadata": {
    "collapsed": true
   },
   "outputs": [],
   "source": [
    "#inital setup\n",
    "import numpy as np\n",
    "import random\n",
    "from sched_gen import fantasyschedule\n",
    "from sched_gen import league_settings\n",
    "\n",
    "%load_ext autoreload\n",
    "%autoreload 2"
   ]
  },
  {
   "cell_type": "code",
   "execution_count": null,
   "metadata": {
    "collapsed": true
   },
   "outputs": [],
   "source": [
    "#set team names\n",
    "team_names = [\n",
    "    'Roughnecks',\n",
    "    'Truth',\n",
    "    'Beatdoazers',\n",
    "    'Hateful8',\n",
    "    'Computerblue',\n",
    "    'Chimps',\n",
    "    'Heros',\n",
    "    'Jabronies',\n",
    "    ]"
   ]
  },
  {
   "cell_type": "code",
   "execution_count": null,
   "metadata": {
    "collapsed": false
   },
   "outputs": [],
   "source": [
    "# Set initial scheudle information here\n",
    "# Example: \n",
    "num_weeks = 15\n",
    "sched = num_weeks*[[]]\n",
    "SB_rematch_week = 1\n",
    "rival_week1 = 5\n",
    "rival_week2 = 11\n",
    "SB_rematch_game = {'Roughnecks','Beatdoazers'}\n",
    "GB_rematch_game = {'Heros', 'Hateful8'}\n",
    "sched[SB_rematch_week-1] = [\n",
    "    SB_rematch_game,\n",
    "    GB_rematch_game\n",
    "    ]\n",
    "\n",
    "sched[rival_week1-1] = [\n",
    "    {'Heros', 'Jabronies'},\n",
    "    {'Truth', 'Hateful8'},\n",
    "    {'Chimps', 'Roughnecks'},\n",
    "    {'Beatdoazers', 'Computerblue'}\n",
    "    ]\n",
    "\n",
    "sched[rival_week2-1] = [\n",
    "    {'Heros', 'Computerblue'},\n",
    "    {'Jabronies', 'Truth'},\n",
    "    {'Chimps', 'Beatdoazers'},\n",
    "    {'Hateful8', 'Roughnecks'}\n",
    "    ]\n",
    "sched"
   ]
  },
  {
   "cell_type": "code",
   "execution_count": null,
   "metadata": {
    "collapsed": true
   },
   "outputs": [],
   "source": [
    "#Load your leauge settings into the program\n",
    "league_set_1 = league_settings(team_names = team_names, num_weeks = num_weeks, init_sched = sched, gen_type='random')"
   ]
  },
  {
   "cell_type": "code",
   "execution_count": null,
   "metadata": {
    "collapsed": false,
    "scrolled": false
   },
   "outputs": [],
   "source": [
    "#generates schedule\n",
    "sched_2018 = fantasyschedule(league_set_1)"
   ]
  },
  {
   "cell_type": "code",
   "execution_count": null,
   "metadata": {
    "collapsed": false
   },
   "outputs": [],
   "source": [
    "#Show how many times teams play each other\n",
    "sched_2018.print_num_matchups()"
   ]
  },
  {
   "cell_type": "code",
   "execution_count": null,
   "metadata": {
    "collapsed": true
   },
   "outputs": [],
   "source": [
    "#Setting for a new schedule using default yahoo method and default leauge options\n",
    "league_set_2 = league_settings(gen_type='yahoo')"
   ]
  },
  {
   "cell_type": "code",
   "execution_count": null,
   "metadata": {
    "collapsed": false
   },
   "outputs": [],
   "source": [
    "#New schedule using default yahoo method\n",
    "#You cant set an inital schedule using the inital yahoo method!!!\n",
    "#No preloaded rivalry games :(\n",
    "sched_2018 = fantasyschedule(league_set_2)\n",
    "sched_2018.print_num_matchups()"
   ]
  },
  {
   "cell_type": "code",
   "execution_count": null,
   "metadata": {
    "collapsed": true
   },
   "outputs": [],
   "source": []
  }
 ],
 "metadata": {
  "anaconda-cloud": {},
  "kernelspec": {
   "display_name": "Python [Anaconda3]",
   "language": "python",
   "name": "Python [Anaconda3]"
  },
  "language_info": {
   "codemirror_mode": {
    "name": "ipython",
    "version": 3
   },
   "file_extension": ".py",
   "mimetype": "text/x-python",
   "name": "python",
   "nbconvert_exporter": "python",
   "pygments_lexer": "ipython3",
   "version": "3.5.2"
  }
 },
 "nbformat": 4,
 "nbformat_minor": 1
}
