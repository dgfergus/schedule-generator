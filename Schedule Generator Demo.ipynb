{
 "cells": [
  {
   "cell_type": "code",
   "execution_count": 1,
   "metadata": {
    "collapsed": false
   },
   "outputs": [],
   "source": [
    "import numpy as np\n",
    "import random\n",
    "from sched_gen import fantasyschedule\n",
    "from sched_gen import league_settings\n",
    "\n",
    "%load_ext autoreload\n",
    "%autoreload 2"
   ]
  },
  {
   "cell_type": "code",
   "execution_count": 2,
   "metadata": {
    "collapsed": false,
    "scrolled": false
   },
   "outputs": [
    {
     "name": "stdout",
     "output_type": "stream",
     "text": [
      "Week1\n",
      "Jabronies vs. Truth | Hateful8 vs. Roughnecks | Beatdoazers vs. Heros | Computerblue vs. Chimps | \n",
      "Week2\n",
      "Heros vs. Truth | Beatdoazers vs. Computerblue | Chimps vs. Roughnecks | Hateful8 vs. Jabronies | \n",
      "Week3\n",
      "Computerblue vs. Jabronies | Hateful8 vs. Truth | Heros vs. Roughnecks | Beatdoazers vs. Chimps | \n",
      "Week4\n",
      "Chimps vs. Truth | Hateful8 vs. Jabronies | Beatdoazers vs. Heros | Computerblue vs. Roughnecks | \n",
      "Week5\n",
      "Heros vs. Jabronies | Hateful8 vs. Truth | Chimps vs. Roughnecks | Beatdoazers vs. Computerblue | \n",
      "Week6\n",
      "Computerblue vs. Roughnecks | Beatdoazers vs. Jabronies | Chimps vs. Truth | Hateful8 vs. Heros | \n",
      "Week7\n",
      "Beatdoazers vs. Heros | Hateful8 vs. Chimps | Jabronies vs. Roughnecks | Computerblue vs. Truth | \n",
      "Week8\n",
      "Hateful8 vs. Jabronies | Chimps vs. Heros | Computerblue vs. Roughnecks | Beatdoazers vs. Truth | \n",
      "Week9\n",
      "Chimps vs. Truth | Beatdoazers vs. Hateful8 | Computerblue vs. Heros | Jabronies vs. Roughnecks | \n",
      "Week10\n",
      "Hateful8 vs. Heros | Beatdoazers vs. Roughnecks | Computerblue vs. Truth | Chimps vs. Jabronies | \n",
      "Week11\n",
      "Computerblue vs. Heros | Jabronies vs. Truth | Beatdoazers vs. Chimps | Hateful8 vs. Roughnecks | \n",
      "Week12\n",
      "Chimps vs. Jabronies | Beatdoazers vs. Truth | Hateful8 vs. Computerblue | Heros vs. Roughnecks | \n",
      "Week13\n",
      "Beatdoazers vs. Hateful8 | Heros vs. Jabronies | Roughnecks vs. Truth | Chimps vs. Computerblue | \n",
      "Week14\n",
      "Chimps vs. Hateful8 | Heros vs. Truth | Beatdoazers vs. Roughnecks | Computerblue vs. Jabronies | \n",
      "Week15\n",
      "Chimps vs. Heros | Roughnecks vs. Truth | Computerblue vs. Hateful8 | Beatdoazers vs. Jabronies | \n",
      "\n",
      "opponent    |   Heros    | Jabronies  |   Truth    |   Chimps   |Beatdoazers |  Hateful8  | Roughnecks |Computerblue|\n",
      "---------------------------------------------------------------------------------------------------------------------\n",
      "Heros       |     0      |     2      |     2      |     2      |     3      |     2      |     2      |     2      |\n",
      "Jabronies   |     2      |     0      |     2      |     2      |     2      |     3      |     2      |     2      |\n",
      "Truth       |     2      |     2      |     0      |     3      |     2      |     2      |     2      |     2      |\n",
      "Chimps      |     2      |     2      |     3      |     0      |     2      |     2      |     2      |     2      |\n",
      "Beatdoazers |     3      |     2      |     2      |     2      |     0      |     2      |     2      |     2      |\n",
      "Hateful8    |     2      |     3      |     2      |     2      |     2      |     0      |     2      |     2      |\n",
      "Roughnecks  |     2      |     2      |     2      |     2      |     2      |     2      |     0      |     3      |\n",
      "Computerblue|     2      |     2      |     2      |     2      |     2      |     2      |     3      |     0      |\n"
     ]
    }
   ],
   "source": [
    "TBL_settings = league_settings('random')\n",
    "sched_2018 = fantasyschedule(TBL_settings)\n",
    "print()\n",
    "sched_2018.print_num_matchups()"
   ]
  },
  {
   "cell_type": "code",
   "execution_count": 3,
   "metadata": {
    "collapsed": false
   },
   "outputs": [
    {
     "name": "stdout",
     "output_type": "stream",
     "text": [
      "Week1\n",
      "Heros vs. Jabronies | Roughnecks vs. Truth | Hateful8 vs. Chimps | Beatdoazers vs. Computerblue | \n",
      "Week2\n",
      "Heros vs. Truth | Computerblue vs. Jabronies | Chimps vs. Roughnecks | Beatdoazers vs. Hateful8 | \n",
      "Week3\n",
      "Chimps vs. Heros | Jabronies vs. Truth | Beatdoazers vs. Roughnecks | Computerblue vs. Hateful8 | \n",
      "Week4\n",
      "Beatdoazers vs. Heros | Chimps vs. Jabronies | Computerblue vs. Truth | Hateful8 vs. Roughnecks | \n",
      "Week5\n",
      "Hateful8 vs. Heros | Beatdoazers vs. Jabronies | Chimps vs. Truth | Computerblue vs. Roughnecks | \n",
      "Week6\n",
      "Heros vs. Roughnecks | Hateful8 vs. Jabronies | Beatdoazers vs. Truth | Computerblue vs. Chimps | \n",
      "Week7\n",
      "Computerblue vs. Heros | Jabronies vs. Roughnecks | Hateful8 vs. Truth | Beatdoazers vs. Chimps | \n",
      "Week8\n",
      "Heros vs. Jabronies | Roughnecks vs. Truth | Hateful8 vs. Chimps | Beatdoazers vs. Computerblue | \n",
      "Week9\n",
      "Heros vs. Truth | Computerblue vs. Jabronies | Chimps vs. Roughnecks | Beatdoazers vs. Hateful8 | \n",
      "Week10\n",
      "Chimps vs. Heros | Jabronies vs. Truth | Beatdoazers vs. Roughnecks | Computerblue vs. Hateful8 | \n",
      "Week11\n",
      "Beatdoazers vs. Heros | Chimps vs. Jabronies | Computerblue vs. Truth | Hateful8 vs. Roughnecks | \n",
      "Week12\n",
      "Hateful8 vs. Heros | Beatdoazers vs. Jabronies | Chimps vs. Truth | Computerblue vs. Roughnecks | \n",
      "Week13\n",
      "Heros vs. Roughnecks | Hateful8 vs. Jabronies | Beatdoazers vs. Truth | Computerblue vs. Chimps | \n",
      "Week14\n",
      "Computerblue vs. Heros | Jabronies vs. Roughnecks | Hateful8 vs. Truth | Beatdoazers vs. Chimps | \n",
      "Week15\n",
      "Heros vs. Jabronies | Roughnecks vs. Truth | Hateful8 vs. Chimps | Beatdoazers vs. Computerblue | \n",
      "\n",
      "opponent    |   Heros    | Jabronies  |   Truth    |   Chimps   |Beatdoazers |  Hateful8  | Roughnecks |Computerblue|\n",
      "---------------------------------------------------------------------------------------------------------------------\n",
      "Heros       |     0      |     3      |     2      |     2      |     2      |     2      |     2      |     2      |\n",
      "Jabronies   |     3      |     0      |     2      |     2      |     2      |     2      |     2      |     2      |\n",
      "Truth       |     2      |     2      |     0      |     2      |     2      |     2      |     3      |     2      |\n",
      "Chimps      |     2      |     2      |     2      |     0      |     2      |     3      |     2      |     2      |\n",
      "Beatdoazers |     2      |     2      |     2      |     2      |     0      |     2      |     2      |     3      |\n",
      "Hateful8    |     2      |     2      |     2      |     3      |     2      |     0      |     2      |     2      |\n",
      "Roughnecks  |     2      |     2      |     3      |     2      |     2      |     2      |     0      |     2      |\n",
      "Computerblue|     2      |     2      |     2      |     2      |     3      |     2      |     2      |     0      |\n"
     ]
    },
    {
     "name": "stderr",
     "output_type": "stream",
     "text": [
      "C:\\Users\\david\\Documents\\Jupyter\\git_sched_gen\\schedule-generator\\sched_gen.py:164: UserWarning: Input schedule not used\n",
      "  warnings.warn(\"Input schedule not used\")\n"
     ]
    }
   ],
   "source": [
    "TBL_settings = league_settings('yahoo')\n",
    "sched_2018 = fantasyschedule(TBL_settings)\n",
    "print()\n",
    "sched_2018.print_num_matchups()"
   ]
  },
  {
   "cell_type": "code",
   "execution_count": null,
   "metadata": {
    "collapsed": true
   },
   "outputs": [],
   "source": []
  }
 ],
 "metadata": {
  "anaconda-cloud": {},
  "kernelspec": {
   "display_name": "Python [Anaconda3]",
   "language": "python",
   "name": "Python [Anaconda3]"
  },
  "language_info": {
   "codemirror_mode": {
    "name": "ipython",
    "version": 3
   },
   "file_extension": ".py",
   "mimetype": "text/x-python",
   "name": "python",
   "nbconvert_exporter": "python",
   "pygments_lexer": "ipython3",
   "version": "3.5.2"
  }
 },
 "nbformat": 4,
 "nbformat_minor": 0
}
