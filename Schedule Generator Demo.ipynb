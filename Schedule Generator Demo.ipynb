{
 "cells": [
  {
   "cell_type": "code",
   "execution_count": 1,
   "metadata": {},
   "outputs": [],
   "source": [
    "import numpy as np\n",
    "import random\n",
    "from sched_gen import fantasyschedule\n",
    "from sched_gen import league_settings\n",
    "\n",
    "%load_ext autoreload\n",
    "%autoreload 2"
   ]
  },
  {
   "cell_type": "code",
   "execution_count": 2,
   "metadata": {},
   "outputs": [],
   "source": [
    "team_names = [\n",
    "    'Heros',\n",
    "    'Jabronies',\n",
    "    'Truth',\n",
    "    'Chimps',\n",
    "    'Beatdoazers',\n",
    "    'Hateful8',\n",
    "    'Roughnecks',\n",
    "    'Computerblue'\n",
    "    ]"
   ]
  },
  {
   "cell_type": "code",
   "execution_count": 3,
   "metadata": {},
   "outputs": [
    {
     "data": {
      "text/plain": [
       "[[{'Jabronies', 'Truth'}, {'Hateful8', 'Roughnecks'}],\n",
       " [],\n",
       " [],\n",
       " [],\n",
       " [{'Heros', 'Jabronies'},\n",
       "  {'Hateful8', 'Truth'},\n",
       "  {'Chimps', 'Roughnecks'},\n",
       "  {'Beatdoazers', 'Computerblue'}],\n",
       " [],\n",
       " [],\n",
       " [],\n",
       " [],\n",
       " [],\n",
       " [{'Computerblue', 'Heros'},\n",
       "  {'Jabronies', 'Truth'},\n",
       "  {'Beatdoazers', 'Chimps'},\n",
       "  {'Hateful8', 'Roughnecks'}],\n",
       " [],\n",
       " [],\n",
       " [],\n",
       " []]"
      ]
     },
     "execution_count": 3,
     "metadata": {},
     "output_type": "execute_result"
    }
   ],
   "source": [
    "# Set initial scheudle information here\n",
    "# Example: \n",
    "num_weeks = 15\n",
    "sched = num_weeks*[[]]\n",
    "SB_rematch_week = 1\n",
    "rival_week1 = 5\n",
    "rival_week2 = 11\n",
    "SB_rematch_game = {'Truth', 'Jabronies'}\n",
    "GB_rematch_game = {'Roughnecks', 'Hateful8'}\n",
    "sched[SB_rematch_week-1] = [\n",
    "    SB_rematch_game,\n",
    "    GB_rematch_game\n",
    "    ]\n",
    "\n",
    "sched[rival_week1-1] = [\n",
    "    {'Heros', 'Jabronies'},\n",
    "    {'Truth', 'Hateful8'},\n",
    "    {'Chimps', 'Roughnecks'},\n",
    "    {'Beatdoazers', 'Computerblue'}\n",
    "    ]\n",
    "\n",
    "sched[rival_week2-1] = [\n",
    "    {'Heros', 'Computerblue'},\n",
    "    {'Jabronies', 'Truth'},\n",
    "    {'Chimps', 'Beatdoazers'},\n",
    "    {'Hateful8', 'Roughnecks'}\n",
    "    ]\n",
    "sched"
   ]
  },
  {
   "cell_type": "code",
   "execution_count": 4,
   "metadata": {},
   "outputs": [],
   "source": [
    "league_set_1 = league_settings(team_names = team_names, num_weeks = num_weeks, init_sched = sched, gen_type='random')"
   ]
  },
  {
   "cell_type": "code",
   "execution_count": 5,
   "metadata": {
    "scrolled": false
   },
   "outputs": [
    {
     "name": "stdout",
     "output_type": "stream",
     "text": [
      "Week1\n",
      "Truth vs. Jabronies | Roughnecks vs. Hateful8 | Computerblue vs. Chimps | Heros vs. Beatdoazers | \n",
      "Week2\n",
      "Chimps vs. Hateful8 | Computerblue vs. Beatdoazers | Truth vs. Roughnecks | Jabronies vs. Heros | \n",
      "Week3\n",
      "Computerblue vs. Heros | Truth vs. Hateful8 | Roughnecks vs. Beatdoazers | Jabronies vs. Chimps | \n",
      "Week4\n",
      "Roughnecks vs. Jabronies | Truth vs. Beatdoazers | Computerblue vs. Hateful8 | Heros vs. Chimps | \n",
      "Week5\n",
      "Jabronies vs. Heros | Truth vs. Hateful8 | Roughnecks vs. Chimps | Computerblue vs. Beatdoazers | \n",
      "Week6\n",
      "Roughnecks vs. Hateful8 | Computerblue vs. Heros | Truth vs. Chimps | Jabronies vs. Beatdoazers | \n",
      "Week7\n",
      "Truth vs. Roughnecks | Jabronies vs. Chimps | Heros vs. Beatdoazers | Computerblue vs. Hateful8 | \n",
      "Week8\n",
      "Computerblue vs. Jabronies | Roughnecks vs. Chimps | Truth vs. Heros | Beatdoazers vs. Hateful8 | \n",
      "Week9\n",
      "Truth vs. Chimps | Computerblue vs. Roughnecks | Jabronies vs. Beatdoazers | Heros vs. Hateful8 | \n",
      "Week10\n",
      "Jabronies vs. Hateful8 | Heros vs. Chimps | Roughnecks vs. Beatdoazers | Truth vs. Computerblue | \n",
      "Week11\n",
      "Computerblue vs. Heros | Truth vs. Jabronies | Chimps vs. Beatdoazers | Roughnecks vs. Hateful8 | \n",
      "Week12\n",
      "Jabronies vs. Hateful8 | Computerblue vs. Chimps | Truth vs. Beatdoazers | Roughnecks vs. Heros | \n",
      "Week13\n",
      "Roughnecks vs. Jabronies | Truth vs. Computerblue | Chimps vs. Beatdoazers | Heros vs. Hateful8 | \n",
      "Week14\n",
      "Chimps vs. Hateful8 | Truth vs. Heros | Jabronies vs. Beatdoazers | Computerblue vs. Roughnecks | \n",
      "Week15\n",
      "Truth vs. Chimps | Computerblue vs. Jabronies | Beatdoazers vs. Hateful8 | Roughnecks vs. Heros | \n",
      "\n"
     ]
    }
   ],
   "source": [
    "sched_2018 = fantasyschedule(league_set_1)"
   ]
  },
  {
   "cell_type": "code",
   "execution_count": 6,
   "metadata": {},
   "outputs": [
    {
     "name": "stdout",
     "output_type": "stream",
     "text": [
      "opponent    |   Heros    | Jabronies  |   Truth    |   Chimps   |Beatdoazers |  Hateful8  | Roughnecks |Computerblue|\n",
      "---------------------------------------------------------------------------------------------------------------------\n",
      "Heros       |     0      |     2      |     2      |     2      |     2      |     2      |     2      |     3      |\n",
      "Jabronies   |     2      |     0      |     2      |     2      |     3      |     2      |     2      |     2      |\n",
      "Truth       |     2      |     2      |     0      |     3      |     2      |     2      |     2      |     2      |\n",
      "Chimps      |     2      |     2      |     3      |     0      |     2      |     2      |     2      |     2      |\n",
      "Beatdoazers |     2      |     3      |     2      |     2      |     0      |     2      |     2      |     2      |\n",
      "Hateful8    |     2      |     2      |     2      |     2      |     2      |     0      |     3      |     2      |\n",
      "Roughnecks  |     2      |     2      |     2      |     2      |     2      |     3      |     0      |     2      |\n",
      "Computerblue|     3      |     2      |     2      |     2      |     2      |     2      |     2      |     0      |\n"
     ]
    }
   ],
   "source": [
    "sched_2018.print_num_matchups()"
   ]
  },
  {
   "cell_type": "code",
   "execution_count": 7,
   "metadata": {},
   "outputs": [],
   "source": [
    "league_set_2 = league_settings(gen_type='yahoo')"
   ]
  },
  {
   "cell_type": "code",
   "execution_count": 8,
   "metadata": {},
   "outputs": [
    {
     "name": "stdout",
     "output_type": "stream",
     "text": [
      "Week1\n",
      "Jabronies vs. Heros | Truth vs. Roughnecks | Chimps vs. Hateful8 | Computerblue vs. Beatdoazers | \n",
      "Week2\n",
      "Truth vs. Heros | Computerblue vs. Jabronies | Roughnecks vs. Chimps | Hateful8 vs. Beatdoazers | \n",
      "Week3\n",
      "Heros vs. Chimps | Truth vs. Jabronies | Roughnecks vs. Beatdoazers | Computerblue vs. Hateful8 | \n",
      "Week4\n",
      "Heros vs. Beatdoazers | Jabronies vs. Chimps | Truth vs. Computerblue | Roughnecks vs. Hateful8 | \n",
      "Week5\n",
      "Heros vs. Hateful8 | Jabronies vs. Beatdoazers | Truth vs. Chimps | Computerblue vs. Roughnecks | \n",
      "Week6\n",
      "Roughnecks vs. Heros | Jabronies vs. Hateful8 | Truth vs. Beatdoazers | Computerblue vs. Chimps | \n",
      "Week7\n",
      "Computerblue vs. Heros | Roughnecks vs. Jabronies | Truth vs. Hateful8 | Chimps vs. Beatdoazers | \n",
      "Week8\n",
      "Jabronies vs. Heros | Truth vs. Roughnecks | Chimps vs. Hateful8 | Computerblue vs. Beatdoazers | \n",
      "Week9\n",
      "Truth vs. Heros | Computerblue vs. Jabronies | Roughnecks vs. Chimps | Hateful8 vs. Beatdoazers | \n",
      "Week10\n",
      "Heros vs. Chimps | Truth vs. Jabronies | Roughnecks vs. Beatdoazers | Computerblue vs. Hateful8 | \n",
      "Week11\n",
      "Heros vs. Beatdoazers | Jabronies vs. Chimps | Truth vs. Computerblue | Roughnecks vs. Hateful8 | \n",
      "Week12\n",
      "Heros vs. Hateful8 | Jabronies vs. Beatdoazers | Truth vs. Chimps | Computerblue vs. Roughnecks | \n",
      "Week13\n",
      "Roughnecks vs. Heros | Jabronies vs. Hateful8 | Truth vs. Beatdoazers | Computerblue vs. Chimps | \n",
      "Week14\n",
      "Computerblue vs. Heros | Roughnecks vs. Jabronies | Truth vs. Hateful8 | Chimps vs. Beatdoazers | \n",
      "Week15\n",
      "Jabronies vs. Heros | Truth vs. Roughnecks | Chimps vs. Hateful8 | Computerblue vs. Beatdoazers | \n",
      "\n",
      "opponent    |   Heros    | Jabronies  |   Truth    |   Chimps   |Beatdoazers |  Hateful8  | Roughnecks |Computerblue|\n",
      "---------------------------------------------------------------------------------------------------------------------\n",
      "Heros       |     0      |     3      |     2      |     2      |     2      |     2      |     2      |     2      |\n",
      "Jabronies   |     3      |     0      |     2      |     2      |     2      |     2      |     2      |     2      |\n",
      "Truth       |     2      |     2      |     0      |     2      |     2      |     2      |     3      |     2      |\n",
      "Chimps      |     2      |     2      |     2      |     0      |     2      |     3      |     2      |     2      |\n",
      "Beatdoazers |     2      |     2      |     2      |     2      |     0      |     2      |     2      |     3      |\n",
      "Hateful8    |     2      |     2      |     2      |     3      |     2      |     0      |     2      |     2      |\n",
      "Roughnecks  |     2      |     2      |     3      |     2      |     2      |     2      |     0      |     2      |\n",
      "Computerblue|     2      |     2      |     2      |     2      |     3      |     2      |     2      |     0      |\n"
     ]
    }
   ],
   "source": [
    "sched_2018 = fantasyschedule(league_set_2)\n",
    "sched_2018.print_num_matchups()"
   ]
  },
  {
   "cell_type": "code",
   "execution_count": null,
   "metadata": {},
   "outputs": [],
   "source": []
  }
 ],
 "metadata": {
  "anaconda-cloud": {},
  "kernelspec": {
   "display_name": "Python 3",
   "language": "python",
   "name": "python3"
  },
  "language_info": {
   "codemirror_mode": {
    "name": "ipython",
    "version": 3
   },
   "file_extension": ".py",
   "mimetype": "text/x-python",
   "name": "python",
   "nbconvert_exporter": "python",
   "pygments_lexer": "ipython3",
   "version": "3.7.0"
  }
 },
 "nbformat": 4,
 "nbformat_minor": 1
}
