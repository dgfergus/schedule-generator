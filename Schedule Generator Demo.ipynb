{
 "cells": [
  {
   "cell_type": "code",
   "execution_count": 1,
   "metadata": {
    "collapsed": false
   },
   "outputs": [],
   "source": [
    "import numpy as np\n",
    "import random\n",
    "from sched_gen import fantasyschedule\n",
    "from sched_gen import league_settings"
   ]
  },
  {
   "cell_type": "code",
   "execution_count": 2,
   "metadata": {
    "collapsed": false,
    "scrolled": false
   },
   "outputs": [
    {
     "name": "stdout",
     "output_type": "stream",
     "text": [
      "Week1\n",
      "Truth vs. Jabronies | Roughnecks vs. Hateful8 | Beatdoazers vs. Heros | Computerblue vs. Chimps | \n",
      "Week2\n",
      "Beatdoazers vs. Jabronies | Roughnecks vs. Heros | Chimps vs. Hateful8 | Truth vs. Computerblue | \n",
      "Week3\n",
      "Beatdoazers vs. Heros | Jabronies vs. Chimps | Roughnecks vs. Computerblue | Truth vs. Hateful8 | \n",
      "Week4\n",
      "Beatdoazers vs. Roughnecks | Truth vs. Chimps | Computerblue vs. Heros | Jabronies vs. Hateful8 | \n",
      "Week5\n",
      "Jabronies vs. Heros | Truth vs. Hateful8 | Roughnecks vs. Chimps | Beatdoazers vs. Computerblue | \n",
      "Week6\n",
      "Beatdoazers vs. Hateful8 | Truth vs. Heros | Roughnecks vs. Jabronies | Computerblue vs. Chimps | \n",
      "Week7\n",
      "Chimps vs. Hateful8 | Computerblue vs. Jabronies | Roughnecks vs. Heros | Beatdoazers vs. Truth | \n",
      "Week8\n",
      "Computerblue vs. Hateful8 | Truth vs. Jabronies | Roughnecks vs. Chimps | Beatdoazers vs. Heros | \n",
      "Week9\n",
      "Computerblue vs. Jabronies | Roughnecks vs. Hateful8 | Heros vs. Chimps | Beatdoazers vs. Truth | \n",
      "Week10\n",
      "Heros vs. Hateful8 | Truth vs. Computerblue | Beatdoazers vs. Roughnecks | Jabronies vs. Chimps | \n",
      "Week11\n",
      "Computerblue vs. Heros | Truth vs. Jabronies | Beatdoazers vs. Chimps | Roughnecks vs. Hateful8 | \n",
      "Week12\n",
      "Beatdoazers vs. Hateful8 | Jabronies vs. Heros | Computerblue vs. Chimps | Roughnecks vs. Truth | \n",
      "Week13\n",
      "Roughnecks vs. Computerblue | Truth vs. Hateful8 | Beatdoazers vs. Jabronies | Heros vs. Chimps | \n",
      "Week14\n",
      "Roughnecks vs. Chimps | Jabronies vs. Hateful8 | Truth vs. Heros | Beatdoazers vs. Computerblue | \n",
      "Week15\n",
      "Heros vs. Hateful8 | Beatdoazers vs. Jabronies | Roughnecks vs. Computerblue | Truth vs. Chimps | \n"
     ]
    }
   ],
   "source": [
    "TBL_settings = league_settings('random')\n",
    "sched_2018 = fantasyschedule(TBL_settings)"
   ]
  },
  {
   "cell_type": "code",
   "execution_count": 3,
   "metadata": {
    "collapsed": false
   },
   "outputs": [
    {
     "name": "stdout",
     "output_type": "stream",
     "text": [
      "Week1\n",
      "Jabronies vs. Heros | Roughnecks vs. Truth | Chimps vs. Hateful8 | Beatdoazers vs. Computerblue | \n",
      "Week2\n",
      "Truth vs. Heros | Computerblue vs. Jabronies | Roughnecks vs. Chimps | Beatdoazers vs. Hateful8 | \n",
      "Week3\n",
      "Heros vs. Chimps | Truth vs. Jabronies | Beatdoazers vs. Roughnecks | Computerblue vs. Hateful8 | \n",
      "Week4\n",
      "Beatdoazers vs. Heros | Jabronies vs. Chimps | Computerblue vs. Truth | Roughnecks vs. Hateful8 | \n",
      "Week5\n",
      "Heros vs. Hateful8 | Beatdoazers vs. Jabronies | Truth vs. Chimps | Roughnecks vs. Computerblue | \n",
      "Week6\n",
      "Roughnecks vs. Heros | Jabronies vs. Hateful8 | Beatdoazers vs. Truth | Computerblue vs. Chimps | \n",
      "Week7\n",
      "Computerblue vs. Heros | Roughnecks vs. Jabronies | Truth vs. Hateful8 | Beatdoazers vs. Chimps | \n",
      "Week8\n",
      "Jabronies vs. Heros | Roughnecks vs. Truth | Chimps vs. Hateful8 | Beatdoazers vs. Computerblue | \n",
      "Week9\n",
      "Truth vs. Heros | Computerblue vs. Jabronies | Roughnecks vs. Chimps | Beatdoazers vs. Hateful8 | \n",
      "Week10\n",
      "Heros vs. Chimps | Truth vs. Jabronies | Beatdoazers vs. Roughnecks | Computerblue vs. Hateful8 | \n",
      "Week11\n",
      "Beatdoazers vs. Heros | Jabronies vs. Chimps | Computerblue vs. Truth | Roughnecks vs. Hateful8 | \n",
      "Week12\n",
      "Heros vs. Hateful8 | Beatdoazers vs. Jabronies | Truth vs. Chimps | Roughnecks vs. Computerblue | \n",
      "Week13\n",
      "Roughnecks vs. Heros | Jabronies vs. Hateful8 | Beatdoazers vs. Truth | Computerblue vs. Chimps | \n",
      "Week14\n",
      "Computerblue vs. Heros | Roughnecks vs. Jabronies | Truth vs. Hateful8 | Beatdoazers vs. Chimps | \n",
      "Week15\n",
      "Jabronies vs. Heros | Roughnecks vs. Truth | Chimps vs. Hateful8 | Beatdoazers vs. Computerblue | \n"
     ]
    },
    {
     "name": "stderr",
     "output_type": "stream",
     "text": [
      "C:\\Users\\david\\Documents\\Jupyter\\git_sched_gen\\schedule-generator\\sched_gen.py:164: UserWarning: Input schedule not used\n",
      "  warnings.warn(\"Input schedule not used\")\n"
     ]
    }
   ],
   "source": [
    "TBL_settings = league_settings('yahoo')\n",
    "sched_2018 = fantasyschedule(TBL_settings)"
   ]
  }
 ],
 "metadata": {
  "anaconda-cloud": {},
  "kernelspec": {
   "display_name": "Python [Anaconda3]",
   "language": "python",
   "name": "Python [Anaconda3]"
  },
  "language_info": {
   "codemirror_mode": {
    "name": "ipython",
    "version": 3
   },
   "file_extension": ".py",
   "mimetype": "text/x-python",
   "name": "python",
   "nbconvert_exporter": "python",
   "pygments_lexer": "ipython3",
   "version": "3.5.2"
  }
 },
 "nbformat": 4,
 "nbformat_minor": 0
}
