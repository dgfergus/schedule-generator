{
 "cells": [
  {
   "cell_type": "code",
   "execution_count": 1,
   "metadata": {
    "collapsed": false
   },
   "outputs": [],
   "source": [
    "import numpy as np\n",
    "import random\n",
    "from sched_gen import fantasyschedule\n",
    "from sched_gen import league_settings"
   ]
  },
  {
   "cell_type": "code",
   "execution_count": 2,
   "metadata": {
    "collapsed": false,
    "scrolled": false
   },
   "outputs": [
    {
     "name": "stdout",
     "output_type": "stream",
     "text": [
      "Try number 0 at generating full schedule.\n",
      "Week1\n",
      "Truth vs. Jabronies | Hateful8 vs. Roughnecks | Beatdoazers vs. Heros | Computerblue vs. Chimps | \n",
      "Week2\n",
      "Jabronies vs. Hateful8 | Truth vs. Heros | Computerblue vs. Beatdoazers | Chimps vs. Roughnecks | \n",
      "Week3\n",
      "Chimps vs. Beatdoazers | Jabronies vs. Heros | Truth vs. Roughnecks | Computerblue vs. Hateful8 | \n",
      "Week4\n",
      "Jabronies vs. Roughnecks | Truth vs. Chimps | Computerblue vs. Heros | Hateful8 vs. Beatdoazers | \n",
      "Week5\n",
      "Jabronies vs. Heros | Truth vs. Hateful8 | Chimps vs. Roughnecks | Computerblue vs. Beatdoazers | \n",
      "Week6\n",
      "Roughnecks vs. Heros | Chimps vs. Beatdoazers | Truth vs. Computerblue | Jabronies vs. Hateful8 | \n",
      "Week7\n",
      "Beatdoazers vs. Heros | Hateful8 vs. Chimps | Truth vs. Jabronies | Computerblue vs. Roughnecks | \n",
      "Week8\n",
      "Computerblue vs. Hateful8 | Roughnecks vs. Heros | Jabronies vs. Beatdoazers | Truth vs. Chimps | \n",
      "Week9\n",
      "Computerblue vs. Beatdoazers | Hateful8 vs. Chimps | Jabronies vs. Heros | Truth vs. Roughnecks | \n",
      "Week10\n",
      "Chimps vs. Heros | Computerblue vs. Hateful8 | Jabronies vs. Roughnecks | Truth vs. Beatdoazers | \n",
      "Week11\n",
      "Computerblue vs. Heros | Truth vs. Jabronies | Chimps vs. Beatdoazers | Hateful8 vs. Roughnecks | \n",
      "Week12\n",
      "Jabronies vs. Hateful8 | Computerblue vs. Roughnecks | Beatdoazers vs. Heros | Truth vs. Chimps | \n",
      "Week13\n",
      "Jabronies vs. Computerblue | Chimps vs. Heros | Truth vs. Beatdoazers | Hateful8 vs. Roughnecks | \n",
      "Week14\n",
      "Roughnecks vs. Beatdoazers | Computerblue vs. Heros | Truth vs. Hateful8 | Jabronies vs. Chimps | \n",
      "Week15\n",
      "Truth vs. Computerblue | Jabronies vs. Beatdoazers | Chimps vs. Roughnecks | Hateful8 vs. Heros | \n"
     ]
    }
   ],
   "source": [
    "TBL_settings = league_settings()\n",
    "sched_2018 = fantasyschedule(TBL_settings)"
   ]
  },
  {
   "cell_type": "code",
   "execution_count": null,
   "metadata": {
    "collapsed": true
   },
   "outputs": [],
   "source": []
  }
 ],
 "metadata": {
  "anaconda-cloud": {},
  "kernelspec": {
   "display_name": "Python [Anaconda3]",
   "language": "python",
   "name": "Python [Anaconda3]"
  },
  "language_info": {
   "codemirror_mode": {
    "name": "ipython",
    "version": 3
   },
   "file_extension": ".py",
   "mimetype": "text/x-python",
   "name": "python",
   "nbconvert_exporter": "python",
   "pygments_lexer": "ipython3",
   "version": "3.5.2"
  }
 },
 "nbformat": 4,
 "nbformat_minor": 0
}
